{
  "nbformat": 4,
  "nbformat_minor": 0,
  "metadata": {
    "colab": {
      "name": "Baseline_Classifier.ipynb",
      "provenance": []
    },
    "kernelspec": {
      "name": "python3",
      "display_name": "Python 3"
    }
  },
  "cells": [
    {
      "cell_type": "code",
      "metadata": {
        "id": "J7TP9MRLEe-n",
        "colab_type": "code",
        "colab": {}
      },
      "source": [
        "import torch\n",
        "import torchvision\n",
        "import torchvision.transforms as transforms\n",
        "import torchvision.datasets as datasets\n",
        "\n",
        "import warnings\n",
        "warnings.filterwarnings(\"ignore\", category = FutureWarning)"
      ],
      "execution_count": 0,
      "outputs": []
    },
    {
      "cell_type": "code",
      "metadata": {
        "id": "edYN5FFmQmDQ",
        "colab_type": "code",
        "outputId": "9373e48b-15b5-4e3c-d79f-abb57e5314aa",
        "colab": {
          "base_uri": "https://localhost:8080/",
          "height": 34
        }
      },
      "source": [
        "from google.colab import drive\n",
        "drive.mount('/content/drive/')\n"
      ],
      "execution_count": 106,
      "outputs": [
        {
          "output_type": "stream",
          "text": [
            "Mounted at /content/drive/\n"
          ],
          "name": "stdout"
        }
      ]
    },
    {
      "cell_type": "code",
      "metadata": {
        "id": "ECHScoN_JFhy",
        "colab_type": "code",
        "colab": {}
      },
      "source": [
        "transform = transforms.Compose([\n",
        "                    transforms.Resize((32, 32)),\n",
        "                    transforms.ToTensor(),\n",
        "                    transforms.Normalize((0.5, 0.5, 0.5), (0.5, 0.5, 0.5))\n",
        "])\n",
        "\n",
        "root = \"/content/drive/My Drive/Colab Notebooks/CS221/dataset\"\n",
        "full_set = datasets.ImageFolder(root=root, transform=transform)\n",
        "train_size = int(0.8 * len(full_set))\n",
        "test_size = len(full_set) - train_size\n",
        "train_set, test_set = torch.utils.data.random_split(full_set, [train_size, test_size])\n",
        "\n",
        "\n",
        "train_loader = torch.utils.data.DataLoader(train_set, shuffle=True, num_workers=0)\n",
        "test_loader = torch.utils.data.DataLoader(test_set, shuffle=False, num_workers=0)\n"
      ],
      "execution_count": 0,
      "outputs": []
    },
    {
      "cell_type": "code",
      "metadata": {
        "id": "72uPDJvPElfz",
        "colab_type": "code",
        "colab": {}
      },
      "source": [
        "import torch.nn as nn\n",
        "import torch.nn.functional as F\n",
        "\n",
        "class Flatten(torch.nn.Module):\n",
        "    def forward(self, x):\n",
        "        batch_size = x.shape[0]\n",
        "        return x.view(batch_size, -1)\n",
        "\n",
        "model = torch.nn.Sequential(\n",
        "    nn.Linear(32 * 32 * 3, 1),\n",
        "#     nn.Linear(32 * 32 * 3, 300),\n",
        "#     nn.ReLU(),\n",
        "    \n",
        "#     nn.Linear(300, 300),\n",
        "#     nn.LeakyReLU(),\n",
        "    \n",
        "#     nn.Linear(300, 1),\n",
        "    nn.Sigmoid()\n",
        ")"
      ],
      "execution_count": 0,
      "outputs": []
    },
    {
      "cell_type": "code",
      "metadata": {
        "id": "TkQfTluyFW_z",
        "colab_type": "code",
        "colab": {}
      },
      "source": [
        "import torch.optim as optim\n",
        "\n",
        "# Define the loss function and optimizer\n",
        "loss_fn = torch.nn.BCELoss()\n",
        "optimizer = optim.Adam(model.parameters(), lr = 0.001)\n"
      ],
      "execution_count": 0,
      "outputs": []
    },
    {
      "cell_type": "code",
      "metadata": {
        "id": "GR1_K92OFZBw",
        "colab_type": "code",
        "colab": {
          "base_uri": "https://localhost:8080/",
          "height": 289
        },
        "outputId": "ca33ff02-8b2c-41be-b412-5779de0cd60b"
      },
      "source": [
        "for epoch in range(10):\n",
        "    # Train the model\n",
        "    running_loss = 0.0\n",
        "    model.train()\n",
        "    for i, [inputs, labels] in enumerate(train_loader):   \n",
        "        inputs = inputs.reshape(-1)\n",
        "        outputs = model(inputs.float())\n",
        "        loss = loss_fn(outputs, labels.float())\n",
        "        loss.backward()\n",
        "        optimizer.step()\n",
        "        optimizer.zero_grad()\n",
        "        running_loss += loss.item()\n",
        "        \n",
        "    # Test current version of model to obtain accuracy    \n",
        "    correct = total = 0 \n",
        "    with torch.no_grad():\n",
        "        for [inputs, labels] in test_loader:   \n",
        "            inputs = inputs.reshape(-1)\n",
        "            probs = model(inputs.float())\n",
        "            t = torch.Tensor([0.5])  # 0.5 acts as threshold\n",
        "            outputs = (probs > t).float() * 1\n",
        "            total += len(outputs)\n",
        "            correct += (outputs == labels.float()).float().sum()\n",
        "            \n",
        "    accuracy = correct / total\n",
        "    print ('Loss: {}     Accuracy: {}'.format(running_loss,  accuracy))\n"
      ],
      "execution_count": 107,
      "outputs": [
        {
          "output_type": "stream",
          "text": [
            "/usr/local/lib/python3.6/dist-packages/PIL/TiffImagePlugin.py:725: UserWarning: Possibly corrupt EXIF data.  Expecting to read 8 bytes but only got 6. Skipping tag 41486\n",
            "  \" Skipping tag %s\" % (size, len(data), tag))\n",
            "/usr/local/lib/python3.6/dist-packages/PIL/TiffImagePlugin.py:725: UserWarning: Possibly corrupt EXIF data.  Expecting to read 8 bytes but only got 0. Skipping tag 41487\n",
            "  \" Skipping tag %s\" % (size, len(data), tag))\n",
            "/usr/local/lib/python3.6/dist-packages/PIL/TiffImagePlugin.py:742: UserWarning: Corrupt EXIF data.  Expecting to read 4 bytes but only got 0. \n",
            "  warnings.warn(str(msg))\n"
          ],
          "name": "stderr"
        },
        {
          "output_type": "stream",
          "text": [
            "Loss: 1007.2483580581902     Accuracy: 0.596875011920929\n",
            "Loss: 933.2793135842294     Accuracy: 0.671875\n",
            "Loss: 910.3854722561446     Accuracy: 0.628125011920929\n",
            "Loss: 810.7282304397377     Accuracy: 0.668749988079071\n",
            "Loss: 840.38466166126     Accuracy: 0.706250011920929\n",
            "Loss: 845.4976892014201     Accuracy: 0.659375011920929\n",
            "Loss: 801.0591343846718     Accuracy: 0.671875\n",
            "Loss: 761.6414023453763     Accuracy: 0.640625\n",
            "Loss: 695.5637461676779     Accuracy: 0.703125\n",
            "Loss: 704.2515164338824     Accuracy: 0.6937500238418579\n"
          ],
          "name": "stdout"
        }
      ]
    },
    {
      "cell_type": "code",
      "metadata": {
        "id": "eAPyvnRMNRc_",
        "colab_type": "code",
        "colab": {}
      },
      "source": [
        ""
      ],
      "execution_count": 0,
      "outputs": []
    }
  ]
}